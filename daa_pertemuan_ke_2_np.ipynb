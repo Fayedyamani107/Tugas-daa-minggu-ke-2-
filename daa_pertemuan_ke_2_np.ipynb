{
  "nbformat": 4,
  "nbformat_minor": 0,
  "metadata": {
    "colab": {
      "provenance": [],
      "authorship_tag": "ABX9TyPXyQ12g6ZD/b216ksr5pJj",
      "include_colab_link": true
    },
    "kernelspec": {
      "name": "python3",
      "display_name": "Python 3"
    },
    "language_info": {
      "name": "python"
    }
  },
  "cells": [
    {
      "cell_type": "markdown",
      "metadata": {
        "id": "view-in-github",
        "colab_type": "text"
      },
      "source": [
        "<a href=\"https://colab.research.google.com/github/Fayedyamani107/Tugas-daa-minggu-ke-2-/blob/main/daa_pertemuan_ke_2_np.ipynb\" target=\"_parent\"><img src=\"https://colab.research.google.com/assets/colab-badge.svg\" alt=\"Open In Colab\"/></a>"
      ]
    },
    {
      "cell_type": "code",
      "source": [
        "import numpy as np"
      ],
      "metadata": {
        "id": "OoqDBYrYnvV1"
      },
      "execution_count": null,
      "outputs": []
    },
    {
      "cell_type": "code",
      "execution_count": null,
      "metadata": {
        "colab": {
          "base_uri": "https://localhost:8080/"
        },
        "id": "QaBOcaYEISn6",
        "outputId": "f085d4f2-55ca-41a8-cb9c-a322fea2fd5c"
      },
      "outputs": [
        {
          "output_type": "stream",
          "name": "stdout",
          "text": [
            "[1, 2, 3, 4, 5, 6]\n"
          ]
        }
      ],
      "source": [
        "import numpy as np\n",
        "\n",
        "a = [1,2,3]\n",
        "b =[4,5,6]\n",
        "\n",
        "hasil = a + b\n",
        "print(hasil)"
      ]
    },
    {
      "cell_type": "code",
      "source": [
        "import numpy as np\n",
        "\n",
        "#membuat array\n",
        "\n",
        "nilai_siswa = np.array([85, 55, 40, 90])\n",
        "\n",
        "#mengakses data pada array\n",
        "print(nilai_siswa[3])\n"
      ],
      "metadata": {
        "colab": {
          "base_uri": "https://localhost:8080/"
        },
        "id": "vOO6mPAOL2XG",
        "outputId": "9771c2e0-7251-41f0-dea2-5dcfb72a60c3"
      },
      "execution_count": null,
      "outputs": [
        {
          "output_type": "stream",
          "name": "stdout",
          "text": [
            "90\n"
          ]
        }
      ]
    },
    {
      "cell_type": "code",
      "source": [
        "import numpy as np\n",
        "\n",
        "def add(list_a, list_b):\n",
        "    result = []\n",
        "    for first, second, in zip(list_a, list_b):\n",
        "        result.append(first + second)\n",
        "    return result\n",
        "\n",
        "a = [1, 2, 3]\n",
        "b = [4, 5, 6]\n",
        "\n",
        "result = add(a,b)\n",
        "print(result)"
      ],
      "metadata": {
        "colab": {
          "base_uri": "https://localhost:8080/"
        },
        "id": "kLCkVZj6Mu3P",
        "outputId": "6d4ffa3f-ebee-421e-b7e1-65da93ff1859"
      },
      "execution_count": null,
      "outputs": [
        {
          "output_type": "stream",
          "name": "stdout",
          "text": [
            "[5, 7, 9]\n"
          ]
        }
      ]
    },
    {
      "cell_type": "code",
      "source": [
        "import numpy as np\n",
        "print(np.__version__)"
      ],
      "metadata": {
        "colab": {
          "base_uri": "https://localhost:8080/"
        },
        "id": "GeEkPmKHNiOz",
        "outputId": "ca411f35-4d09-4547-b575-b1e558fea062"
      },
      "execution_count": null,
      "outputs": [
        {
          "output_type": "stream",
          "name": "stdout",
          "text": [
            "1.23.5\n"
          ]
        }
      ]
    },
    {
      "cell_type": "code",
      "source": [
        "import numpy as np\n",
        "#membuat komen huruf besar\n",
        "##membuat komen huruf kecil/sedang"
      ],
      "metadata": {
        "id": "_HI12-lXO-6a"
      },
      "execution_count": null,
      "outputs": []
    },
    {
      "cell_type": "markdown",
      "source": [
        "#membuat text huruf besar\n",
        "##membuat text huruf sedang/kecil"
      ],
      "metadata": {
        "id": "ZXoZYVaJPhO-"
      }
    },
    {
      "cell_type": "code",
      "source": [
        "print(\"Hello world\")\n",
        "print(\"Nama saya fayed\")\n",
        "print(\"Nim saya 2022071017\")"
      ],
      "metadata": {
        "colab": {
          "base_uri": "https://localhost:8080/"
        },
        "id": "wq2ZALzpPuuz",
        "outputId": "d234d0a2-5710-4b0a-97e8-2fa706525aa6"
      },
      "execution_count": null,
      "outputs": [
        {
          "output_type": "stream",
          "name": "stdout",
          "text": [
            "Hello world\n",
            "Nama saya fayed\n",
            "Nim saya 2022071017\n"
          ]
        }
      ]
    },
    {
      "cell_type": "code",
      "source": [
        "if 5>2:\n",
        "  print(\"five is greater then two!\")"
      ],
      "metadata": {
        "colab": {
          "base_uri": "https://localhost:8080/"
        },
        "id": "PYam84XFSioe",
        "outputId": "6b4e6074-c8d2-4f33-d955-789f52f71571"
      },
      "execution_count": null,
      "outputs": [
        {
          "output_type": "stream",
          "name": "stdout",
          "text": [
            "five is greater then two!\n"
          ]
        }
      ]
    },
    {
      "cell_type": "code",
      "source": [
        "x = 5\n",
        "y = \"jhon\"\n",
        "print(x)\n",
        "print(y)"
      ],
      "metadata": {
        "colab": {
          "base_uri": "https://localhost:8080/"
        },
        "id": "XKO3KNEUTF34",
        "outputId": "371d217a-19b7-4762-b6f9-197f5232c146"
      },
      "execution_count": null,
      "outputs": [
        {
          "output_type": "stream",
          "name": "stdout",
          "text": [
            "5\n",
            "jhon\n"
          ]
        }
      ]
    },
    {
      "cell_type": "code",
      "source": [
        "x = 4\n",
        "x = \"sally\"\n",
        "print(x)"
      ],
      "metadata": {
        "colab": {
          "base_uri": "https://localhost:8080/"
        },
        "id": "rGUoqTFBTnOT",
        "outputId": "fa267c40-0ee4-4cb3-881f-b6785189f8f3"
      },
      "execution_count": null,
      "outputs": [
        {
          "output_type": "stream",
          "name": "stdout",
          "text": [
            "sally\n"
          ]
        }
      ]
    },
    {
      "cell_type": "code",
      "source": [
        "def getFirst(myList):\n",
        "    return myList[0]\n",
        "\n",
        "print(getFirst([1,2,3]))\n",
        "\n"
      ],
      "metadata": {
        "colab": {
          "base_uri": "https://localhost:8080/"
        },
        "id": "fSni5c7qVOjT",
        "outputId": "423b4a31-48f0-4014-b5c5-31ee8b9f05e0"
      },
      "execution_count": null,
      "outputs": [
        {
          "output_type": "stream",
          "name": "stdout",
          "text": [
            "1\n"
          ]
        }
      ]
    },
    {
      "cell_type": "code",
      "source": [
        "def getsecond(myList):\n",
        "    return myList[1]\n",
        "\n",
        "print(getsecond([1, 2, 3]))"
      ],
      "metadata": {
        "colab": {
          "base_uri": "https://localhost:8080/"
        },
        "id": "99XvfYPgW5vV",
        "outputId": "d1ebee4d-0d3a-4088-d6b7-3a921d0eeb4c"
      },
      "execution_count": null,
      "outputs": [
        {
          "output_type": "stream",
          "name": "stdout",
          "text": [
            "2\n"
          ]
        }
      ]
    },
    {
      "cell_type": "code",
      "source": [
        "def getlast(myList):\n",
        "    return myList[2]\n",
        "\n",
        "print(getlast([1, 2, 3]))"
      ],
      "metadata": {
        "colab": {
          "base_uri": "https://localhost:8080/"
        },
        "id": "j7iTvIT5XTVL",
        "outputId": "0f7b1387-2a1f-42d1-9443-d8bb9d9a3db2"
      },
      "execution_count": null,
      "outputs": [
        {
          "output_type": "stream",
          "name": "stdout",
          "text": [
            "3\n"
          ]
        }
      ]
    },
    {
      "cell_type": "code",
      "source": [
        "def getSum(mylist):\n",
        "  sum = 0\n",
        "  for item in mylist:\n",
        "    sum = sum+item\n",
        "  return sum\n",
        "\n",
        "getSum([1, 2, 3, 4])"
      ],
      "metadata": {
        "colab": {
          "base_uri": "https://localhost:8080/"
        },
        "id": "cspPueZMaf2s",
        "outputId": "1f583b3e-cb74-46c2-bc70-bf8094b66aec"
      },
      "execution_count": null,
      "outputs": [
        {
          "output_type": "execute_result",
          "data": {
            "text/plain": [
              "10"
            ]
          },
          "metadata": {},
          "execution_count": 49
        }
      ]
    },
    {
      "cell_type": "code",
      "source": [
        "def getSum(mylist):\n",
        "  sum = 0\n",
        "  for item in mylist:\n",
        "    sum = sum+item\n",
        "  return sum\n",
        "\n",
        "getSum([1, 2, 3])"
      ],
      "metadata": {
        "colab": {
          "base_uri": "https://localhost:8080/"
        },
        "id": "mzoSCKjEcbCT",
        "outputId": "df6f9f79-a7b6-4244-dc58-e9d5503085d1"
      },
      "execution_count": null,
      "outputs": [
        {
          "output_type": "execute_result",
          "data": {
            "text/plain": [
              "6"
            ]
          },
          "metadata": {},
          "execution_count": 51
        }
      ]
    },
    {
      "cell_type": "code",
      "source": [
        "def getSum(mylist):\n",
        "  sum = 0\n",
        "  for item in mylist:\n",
        "    sum = sum+item\n",
        "  return sum\n",
        "\n",
        "getSum([1, 2, 3, 4])"
      ],
      "metadata": {
        "colab": {
          "base_uri": "https://localhost:8080/"
        },
        "id": "JZseQ2OGchZz",
        "outputId": "e93c7726-19ac-4899-c3ac-f7e3adda854a"
      },
      "execution_count": null,
      "outputs": [
        {
          "output_type": "execute_result",
          "data": {
            "text/plain": [
              "10"
            ]
          },
          "metadata": {},
          "execution_count": 53
        }
      ]
    },
    {
      "cell_type": "code",
      "source": [
        "def getSum(mylist):\n",
        "  sum = 0\n",
        "  for item in mylist:\n",
        "    sum = sum+item\n",
        "  return sum\n",
        "\n",
        "getSum([-7, -3, -5, -4])"
      ],
      "metadata": {
        "colab": {
          "base_uri": "https://localhost:8080/"
        },
        "id": "MEKA1PEkczdu",
        "outputId": "ef118b1e-d139-4fa2-eaa6-efb79ff41f81"
      },
      "execution_count": null,
      "outputs": [
        {
          "output_type": "execute_result",
          "data": {
            "text/plain": [
              "-19"
            ]
          },
          "metadata": {},
          "execution_count": 56
        }
      ]
    },
    {
      "cell_type": "code",
      "source": [
        "def getKali(myList):\n",
        "    multiply = 1\n",
        "    for item in myList:\n",
        "        multiply = multiply * item\n",
        "    return multiply\n",
        "\n",
        "print(getKali([1,2,3,4]))\n",
        "print(getKali([7, 3, 5, 11, 8, 10]))\n",
        "print(getKali([-2, 4, 5, -7, 9, 4, 5]))"
      ],
      "metadata": {
        "colab": {
          "base_uri": "https://localhost:8080/"
        },
        "id": "PQ-DAp3heY0G",
        "outputId": "774df24b-05e6-4cf2-f094-1e6185dc2f40"
      },
      "execution_count": null,
      "outputs": [
        {
          "output_type": "stream",
          "name": "stdout",
          "text": [
            "24\n",
            "92400\n",
            "50400\n"
          ]
        }
      ]
    },
    {
      "cell_type": "code",
      "source": [
        "def getBagi(myList):\n",
        "    divide = myList[0]\n",
        "    for item in myList[1:]:\n",
        "        divide = divide / item\n",
        "    return divide\n",
        "\n",
        "print(getBagi([1,2,3,4]))\n",
        "print(getBagi([7, 3, 5, 11, 8, 10]))\n",
        "print(getBagi([-2, 4, 5, -7, 9, 4, 5]))"
      ],
      "metadata": {
        "colab": {
          "base_uri": "https://localhost:8080/"
        },
        "id": "8uroLyXBekAW",
        "outputId": "5b2af6a0-013c-4fd2-d050-b2e146511c6c"
      },
      "execution_count": null,
      "outputs": [
        {
          "output_type": "stream",
          "name": "stdout",
          "text": [
            "0.041666666666666664\n",
            "0.0005303030303030304\n",
            "7.936507936507938e-05\n"
          ]
        }
      ]
    },
    {
      "cell_type": "code",
      "source": [
        "def avg(mylist):\n",
        "  sum = 0\n",
        "  for item in mylist:\n",
        "    sum = sum+item\n",
        "  return sum /len(mylist)\n",
        "\n",
        "print(avg([1,2,3,4]))"
      ],
      "metadata": {
        "colab": {
          "base_uri": "https://localhost:8080/"
        },
        "id": "epyhDgwUkchu",
        "outputId": "03c1feec-2046-4a18-e3f2-8f9090d40375"
      },
      "execution_count": null,
      "outputs": [
        {
          "output_type": "stream",
          "name": "stdout",
          "text": [
            "2.5\n",
            "2.5\n"
          ]
        }
      ]
    },
    {
      "cell_type": "code",
      "source": [
        "def getSum(myList):\n",
        "    sum = 0\n",
        "    for item in myList:\n",
        "        sum = sum + item\n",
        "    return sum\n",
        "\n",
        "a = getSum([1,2,3,4])\n",
        "b = getSum([5,6,7,8])\n",
        "result = a / b\n",
        "\n",
        "print(result)"
      ],
      "metadata": {
        "id": "wHJjt0WblzD5"
      },
      "execution_count": null,
      "outputs": []
    }
  ]
}